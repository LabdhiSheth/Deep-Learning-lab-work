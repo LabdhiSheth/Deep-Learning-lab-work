{
  "nbformat": 4,
  "nbformat_minor": 0,
  "metadata": {
    "colab": {
      "name": "MLP Classifier for MNIST dataset_1 .ipynb",
      "provenance": [],
      "collapsed_sections": [],
      "toc_visible": true,
      "authorship_tag": "ABX9TyOEKfT3ZIR2kf/FdlZ7LWjY",
      "include_colab_link": true
    },
    "kernelspec": {
      "display_name": "Python 3",
      "name": "python3"
    },
    "language_info": {
      "name": "python"
    },
    "accelerator": "GPU"
  },
  "cells": [
    {
      "cell_type": "markdown",
      "metadata": {
        "id": "view-in-github",
        "colab_type": "text"
      },
      "source": [
        "<a href=\"https://colab.research.google.com/github/LabdhiSheth/Deep-Learning-lab-work/blob/main/MLP_Classifier_for_MNIST_dataset_1_.ipynb\" target=\"_parent\"><img src=\"https://colab.research.google.com/assets/colab-badge.svg\" alt=\"Open In Colab\"/></a>"
      ]
    },
    {
      "cell_type": "markdown",
      "metadata": {
        "id": "H_qOV6OrcSFC"
      },
      "source": [
        "# 18BCE101 Labdhi Sheth\n",
        "Deep Learning practical 1\n",
        "\n",
        "Aim:\n",
        "MLP Classifier for MNIST dataset using sklearn\n",
        "\n",
        "The MNIST dataset is a large database of handwritten digits. This dataset is used for training models to recognize handwritten digits.\n"
      ]
    },
    {
      "cell_type": "code",
      "metadata": {
        "id": "dl3Tbv0sPBgk"
      },
      "source": [
        "#importing the libraries\n",
        "from sklearn import metrics\n",
        "from sklearn.neural_network import MLPClassifier\n",
        "import pickle as pkl\n",
        "import numpy as np"
      ],
      "execution_count": null,
      "outputs": []
    },
    {
      "cell_type": "code",
      "metadata": {
        "colab": {
          "base_uri": "https://localhost:8080/"
        },
        "id": "R7m9mpaMSvGq",
        "outputId": "7449e063-4cb0-44de-bcd8-ef4ae08d6986"
      },
      "source": [
        "from google.colab import drive\n",
        "\n",
        "drive.mount('/content/gdrive')"
      ],
      "execution_count": null,
      "outputs": [
        {
          "output_type": "stream",
          "text": [
            "Mounted at /content/gdrive\n"
          ],
          "name": "stdout"
        }
      ]
    },
    {
      "cell_type": "code",
      "metadata": {
        "colab": {
          "base_uri": "https://localhost:8080/"
        },
        "id": "9p3hmNtbSAR6",
        "outputId": "ea5cdc67-51e4-4361-9b47-12c92d661ca5"
      },
      "source": [
        "#reading the picle file into train, validation and test set\n",
        "train, validation, test = pkl.load(open('/content/gdrive/My Drive/6th semester/Deep learning/Practicals/1/mnist.pkl','rb'), encoding= 'latin1')\n",
        "\n",
        "#splitting the columns to set and target\n",
        "trainset = train[0]\n",
        "traintarget = train[1]\n",
        "validationset = validation[0]\n",
        "validationtarget = validation[1]\n",
        "testset = test[0]\n",
        "testtarget = test[1]\n",
        "\n",
        "#concatenating train and validation set and target into Train_set and Train_Target\n",
        "Train_Set = np.concatenate((trainset,validationset), axis = 0)\n",
        "Train_Target = np.concatenate((traintarget,validationtarget), axis = 0)\n",
        "\n",
        "#normalising the values\n",
        "Train_Set = Train_Set/255\n",
        "Test_Set = testset/255\n",
        "\n",
        "#printing the shape of the numpy arrays\n",
        "print(\"Train set\",Train_Set.shape)\n",
        "print(\"Train target\",Train_Target.shape)\n",
        "print(\"Test set\", Test_Set.shape)\n",
        "print(\"Test target\", testtarget.shape)"
      ],
      "execution_count": null,
      "outputs": [
        {
          "output_type": "stream",
          "text": [
            "Train set (60000, 784)\n",
            "Train target (60000,)\n",
            "Test set (10000, 784)\n",
            "Test target (10000,)\n"
          ],
          "name": "stdout"
        }
      ]
    },
    {
      "cell_type": "code",
      "metadata": {
        "colab": {
          "base_uri": "https://localhost:8080/"
        },
        "id": "REPQP-cASPN4",
        "outputId": "7b11f76f-a323-4418-d4ec-80ecf6f02b0d"
      },
      "source": [
        "#defining the classifier\n",
        "classifier = MLPClassifier(hidden_layer_sizes= (784,784,784), max_iter= 60)\n",
        "classifier.fit(Train_Set,Train_Target)\n",
        "\n",
        "#predicting the result\n",
        "prediction = classifier.predict(Test_Set)\n",
        "\n",
        "\n",
        "#printing the results\n",
        "print(\"Accuracy =\",metrics.accuracy_score(testtarget, prediction, normalize = True)*100,\"%\")\n",
        "print(\"-------------------------------------------------------------------------------------\")\n",
        "print(\"Classification report:\\n\",metrics.classification_report(testtarget,prediction))\n",
        "print(\"-------------------------------------------------------------------------------------\")\n",
        "print(\"Confusion matrix\\n\",metrics.confusion_matrix(testtarget,prediction))"
      ],
      "execution_count": null,
      "outputs": [
        {
          "output_type": "stream",
          "text": [
            "Accuracy = 98.05 %\n",
            "-------------------------------------------------------------------------------------\n",
            "Classification report:\n",
            "               precision    recall  f1-score   support\n",
            "\n",
            "           0       0.99      0.99      0.99       980\n",
            "           1       0.99      1.00      0.99      1135\n",
            "           2       0.99      0.98      0.98      1032\n",
            "           3       0.98      0.98      0.98      1010\n",
            "           4       0.96      0.99      0.97       982\n",
            "           5       0.99      0.97      0.98       892\n",
            "           6       0.98      0.98      0.98       958\n",
            "           7       0.98      0.98      0.98      1028\n",
            "           8       0.98      0.97      0.97       974\n",
            "           9       0.97      0.97      0.97      1009\n",
            "\n",
            "    accuracy                           0.98     10000\n",
            "   macro avg       0.98      0.98      0.98     10000\n",
            "weighted avg       0.98      0.98      0.98     10000\n",
            "\n",
            "-------------------------------------------------------------------------------------\n",
            "Confusion matrix\n",
            " [[ 972    0    0    0    1    0    1    0    4    2]\n",
            " [   0 1132    0    0    0    1    1    0    1    0]\n",
            " [   4    1 1007    4    4    0    1    7    4    0]\n",
            " [   0    0    3  988    0    2    0    4    5    8]\n",
            " [   1    0    1    0  973    0    3    1    0    3]\n",
            " [   2    0    0    8    2  866    6    1    5    2]\n",
            " [   3    4    1    1   10    1  937    0    1    0]\n",
            " [   0    6    6    1    5    0    0 1005    1    4]\n",
            " [   3    0    1    4    4    2    4    2  947    7]\n",
            " [   1    3    0    0   17    3    0    5    2  978]]\n"
          ],
          "name": "stdout"
        }
      ]
    },
    {
      "cell_type": "code",
      "metadata": {
        "id": "a2weuYWeUmqd"
      },
      "source": [
        ""
      ],
      "execution_count": null,
      "outputs": []
    }
  ]
}