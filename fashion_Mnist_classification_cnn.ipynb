{
  "nbformat": 4,
  "nbformat_minor": 0,
  "metadata": {
    "colab": {
      "name": "fashion Mnist classification cnn.ipynb",
      "provenance": [],
      "collapsed_sections": [],
      "authorship_tag": "ABX9TyMNzJuMZpBH0B10xj5OwbKq",
      "include_colab_link": true
    },
    "kernelspec": {
      "name": "python3",
      "display_name": "Python 3"
    },
    "language_info": {
      "name": "python"
    },
    "accelerator": "GPU"
  },
  "cells": [
    {
      "cell_type": "markdown",
      "metadata": {
        "id": "view-in-github",
        "colab_type": "text"
      },
      "source": [
        "<a href=\"https://colab.research.google.com/github/LabdhiSheth/Deep-Learning-lab-work/blob/main/fashion_Mnist_classification_cnn.ipynb\" target=\"_parent\"><img src=\"https://colab.research.google.com/assets/colab-badge.svg\" alt=\"Open In Colab\"/></a>"
      ]
    },
    {
      "cell_type": "markdown",
      "metadata": {
        "id": "fO4Gd12CZJwK"
      },
      "source": [
        "# 18BCE101 Labdhi Sheth\n",
        "Deep Learning practical 1\n",
        "\n",
        "Aim:\n",
        "Fashion mnist classification dataset using CNN.\n",
        "\n",
        "Fashion-MNIST is a dataset consisting of a training set of 60,000 examples and a test set of 10,000 examples. Each example is a 28x28 grayscale image, associated with a label from 10 classes (T-shirt/top, Trouser,\tPullover,\tDress,\tCoat, Sandal,\tShirt,\tSneaker,\tBag,\tAnkle boot)"
      ]
    },
    {
      "cell_type": "markdown",
      "metadata": {
        "id": "_h-gRsZjgEBf"
      },
      "source": [
        "Importing libraries"
      ]
    },
    {
      "cell_type": "code",
      "metadata": {
        "id": "m-3DA0lJYqou"
      },
      "source": [
        "from tensorflow import keras\n",
        "from keras.layers import Dense, MaxPool2D, Conv2D, Dropout,Flatten\n",
        "from keras.models import Sequential\n",
        "from keras.utils import np_utils\n",
        "from keras.datasets import mnist\n",
        "from sklearn import metrics\n",
        "from keras import optimizers\n",
        "import numpy\n",
        "import pandas as pd\n",
        "from matplotlib import pyplot as plt"
      ],
      "execution_count": null,
      "outputs": []
    },
    {
      "cell_type": "code",
      "metadata": {
        "colab": {
          "base_uri": "https://localhost:8080/"
        },
        "id": "bEN9QPJ9ZvZB",
        "outputId": "9dc3c079-a496-4a23-9c82-8213c52c7604"
      },
      "source": [
        "from google.colab import drive\n",
        "\n",
        "drive.mount('/content/gdrive')"
      ],
      "execution_count": null,
      "outputs": [
        {
          "output_type": "stream",
          "text": [
            "Mounted at /content/gdrive\n"
          ],
          "name": "stdout"
        }
      ]
    },
    {
      "cell_type": "code",
      "metadata": {
        "id": "w7lP8HvSZzBf"
      },
      "source": [
        "train = pd.read_csv('/content/gdrive/My Drive/6th semester/Deep learning/Practicals/3/fashion-mnist_train.csv')\n",
        "test = pd.read_csv('/content/gdrive/My Drive/6th semester/Deep learning/Practicals/3/fashion-mnist_test.csv')\n",
        "\n",
        "train = train.values\n",
        "test = test.values"
      ],
      "execution_count": null,
      "outputs": []
    },
    {
      "cell_type": "markdown",
      "metadata": {
        "id": "V3dtc0RUgfcg"
      },
      "source": [
        "splitting in train and test set"
      ]
    },
    {
      "cell_type": "code",
      "metadata": {
        "colab": {
          "base_uri": "https://localhost:8080/"
        },
        "id": "IxU8z-KKeJkr",
        "outputId": "424ec807-f591-4b38-fc7f-d863bef85f01"
      },
      "source": [
        "X_train = train[:,1:785]\n",
        "y_train = train[:,0]\n",
        "X_test = test[:,1:785]\n",
        "y_test = test[:,0]\n",
        "\n",
        "print(X_train.shape)\n",
        "print(X_test.shape)\n",
        "print(y_train.shape)\n",
        "print(y_test.shape)"
      ],
      "execution_count": null,
      "outputs": [
        {
          "output_type": "stream",
          "text": [
            "(60000, 784)\n",
            "(10000, 784)\n",
            "(60000,)\n",
            "(10000,)\n"
          ],
          "name": "stdout"
        }
      ]
    },
    {
      "cell_type": "markdown",
      "metadata": {
        "id": "3vSNp-36gjIS"
      },
      "source": [
        "Displaying the data"
      ]
    },
    {
      "cell_type": "code",
      "metadata": {
        "colab": {
          "base_uri": "https://localhost:8080/",
          "height": 402
        },
        "id": "B6u-HqOTefcz",
        "outputId": "6a030b52-45df-448b-d319-c1b058dfc2e7"
      },
      "source": [
        "Train_set = X_train.reshape(X_train.shape[0], 28, 28).astype('float32')\n",
        "Test_set = X_test.reshape(X_test.shape[0], 28, 28).astype('float32')\n",
        "\n",
        "row = 3\n",
        "col = 5\n",
        "\n",
        "num = row*col\n",
        "images = Train_set[:num]\n",
        "labels = Test_set[:num]\n",
        "\n",
        "fig, axes = plt.subplots(row, col, figsize=(2*col,2*row))\n",
        "for i in range(row*col):\n",
        "    ax = axes[i//col, i%col]\n",
        "    ax.imshow(images[i], cmap='gray')\n",
        "plt.tight_layout()\n",
        "plt.show()"
      ],
      "execution_count": null,
      "outputs": [
        {
          "output_type": "display_data",
          "data": {
            "image/png": "[encoded data removed]",
            "text/plain": [
              "<Figure size 720x432 with 15 Axes>"
            ]
          },
          "metadata": {
            "tags": [],
            "needs_background": "light"
          }
        }
      ]
    },
    {
      "cell_type": "markdown",
      "metadata": {
        "id": "lP5JMZNehGgv"
      },
      "source": [
        "Reshaping the data"
      ]
    },
    {
      "cell_type": "code",
      "metadata": {
        "colab": {
          "base_uri": "https://localhost:8080/"
        },
        "id": "yHVD7pibezzq",
        "outputId": "a6493573-ec9e-4e17-b565-579c80f6b6bd"
      },
      "source": [
        "X_train = X_train.reshape(X_train.shape[0],28, 28, 1).astype('float32')\n",
        "X_test = X_test.reshape(X_test.shape[0],28,28,1).astype('float32')\n",
        "\n",
        "print(\"X train\",X_train.shape)\n",
        "print(\"X test\",X_test.shape)"
      ],
      "execution_count": null,
      "outputs": [
        {
          "output_type": "stream",
          "text": [
            "X train (60000, 28, 28, 1)\n",
            "X test (10000, 28, 28, 1)\n"
          ],
          "name": "stdout"
        }
      ]
    },
    {
      "cell_type": "markdown",
      "metadata": {
        "id": "otmgyIu0hLGv"
      },
      "source": [
        "Normalizing the train and test sets"
      ]
    },
    {
      "cell_type": "code",
      "metadata": {
        "id": "mlls5FBme5V1"
      },
      "source": [
        "X_train = X_train/255\n",
        "X_test = X_test/255"
      ],
      "execution_count": null,
      "outputs": []
    },
    {
      "cell_type": "markdown",
      "metadata": {
        "id": "ASTkwz53hRea"
      },
      "source": [
        "One hot encoding"
      ]
    },
    {
      "cell_type": "code",
      "metadata": {
        "colab": {
          "base_uri": "https://localhost:8080/"
        },
        "id": "aQ2v31bihQms",
        "outputId": "599d015f-d056-4cde-9dc6-7794f25a527a"
      },
      "source": [
        "y_train = np_utils.to_categorical(y_train)\n",
        "y_test_copy = y_test                        #for future use\n",
        "y_test = np_utils.to_categorical(y_test)\n",
        "\n",
        "print(\"y train\",y_train.shape)\n",
        "print(\"y test\",y_test.shape)"
      ],
      "execution_count": null,
      "outputs": [
        {
          "output_type": "stream",
          "text": [
            "y train (60000, 10)\n",
            "y test (10000, 10)\n"
          ],
          "name": "stdout"
        }
      ]
    },
    {
      "cell_type": "markdown",
      "metadata": {
        "id": "fMTYWjTthZDj"
      },
      "source": [
        "Building the Model"
      ]
    },
    {
      "cell_type": "code",
      "metadata": {
        "colab": {
          "base_uri": "https://localhost:8080/"
        },
        "id": "kdOlLydZhUH6",
        "outputId": "86f48ab8-6c8a-4a19-9b58-dcd6f3b55a95"
      },
      "source": [
        "model = Sequential()\n",
        "model.add(Conv2D(filters = 32, kernel_size = (3,3), strides=1,padding = 'same', activation = 'relu', input_shape = (28,28,1)))\n",
        "model.add(MaxPool2D(pool_size = (2,2), strides = 2))\n",
        "model.add(Conv2D(filters = 64, kernel_size = (3,3), strides = 1, activation = 'relu'))\n",
        "model.add(MaxPool2D(pool_size=(2,2), strides = 2))\n",
        "model.add(Flatten())\n",
        "model.add(Dropout(rate = 0.2))\n",
        "model.add(Dense(units = 128, activation = 'relu'))\n",
        "model.add(Dense(units = y_test.shape[1], activation = 'softmax'))\n",
        "\n",
        "adam = optimizers.Adam(lr = 0.001)\n",
        "model.compile(optimizer = adam, loss = 'categorical_crossentropy', metrics = ['accuracy'])\n",
        "model.fit(X_train, y_train, validation_data = (X_test,y_test), epochs = 20, batch_size = 100, verbose = 1)"
      ],
      "execution_count": null,
      "outputs": [
        {
          "output_type": "stream",
          "text": [
            "Epoch 1/20\n",
            "600/600 [==============================] - 35s 4ms/step - loss: 0.6924 - accuracy: 0.7526 - val_loss: 0.3222 - val_accuracy: 0.8856\n",
            "Epoch 2/20\n",
            "600/600 [==============================] - 2s 4ms/step - loss: 0.3276 - accuracy: 0.8817 - val_loss: 0.2777 - val_accuracy: 0.9012\n",
            "Epoch 3/20\n",
            "600/600 [==============================] - 2s 4ms/step - loss: 0.2831 - accuracy: 0.8978 - val_loss: 0.2757 - val_accuracy: 0.8966\n",
            "Epoch 4/20\n",
            "600/600 [==============================] - 2s 4ms/step - loss: 0.2562 - accuracy: 0.9058 - val_loss: 0.2476 - val_accuracy: 0.9114\n",
            "Epoch 5/20\n",
            "600/600 [==============================] - 2s 4ms/step - loss: 0.2290 - accuracy: 0.9141 - val_loss: 0.2231 - val_accuracy: 0.9179\n",
            "Epoch 6/20\n",
            "600/600 [==============================] - 2s 4ms/step - loss: 0.2047 - accuracy: 0.9237 - val_loss: 0.2122 - val_accuracy: 0.9230\n",
            "Epoch 7/20\n",
            "600/600 [==============================] - 2s 4ms/step - loss: 0.1902 - accuracy: 0.9296 - val_loss: 0.2172 - val_accuracy: 0.9186\n",
            "Epoch 8/20\n",
            "600/600 [==============================] - 2s 4ms/step - loss: 0.1762 - accuracy: 0.9343 - val_loss: 0.2009 - val_accuracy: 0.9259\n",
            "Epoch 9/20\n",
            "600/600 [==============================] - 2s 4ms/step - loss: 0.1595 - accuracy: 0.9411 - val_loss: 0.2043 - val_accuracy: 0.9261\n",
            "Epoch 10/20\n",
            "600/600 [==============================] - 2s 4ms/step - loss: 0.1497 - accuracy: 0.9442 - val_loss: 0.2070 - val_accuracy: 0.9267\n",
            "Epoch 11/20\n",
            "600/600 [==============================] - 2s 4ms/step - loss: 0.1338 - accuracy: 0.9507 - val_loss: 0.2124 - val_accuracy: 0.9255\n",
            "Epoch 12/20\n",
            "600/600 [==============================] - 2s 4ms/step - loss: 0.1219 - accuracy: 0.9556 - val_loss: 0.1997 - val_accuracy: 0.9297\n",
            "Epoch 13/20\n",
            "600/600 [==============================] - 2s 4ms/step - loss: 0.1155 - accuracy: 0.9565 - val_loss: 0.2030 - val_accuracy: 0.9290\n",
            "Epoch 14/20\n",
            "600/600 [==============================] - 2s 4ms/step - loss: 0.1082 - accuracy: 0.9594 - val_loss: 0.2080 - val_accuracy: 0.9310\n",
            "Epoch 15/20\n",
            "600/600 [==============================] - 2s 4ms/step - loss: 0.0979 - accuracy: 0.9633 - val_loss: 0.2112 - val_accuracy: 0.9282\n",
            "Epoch 16/20\n",
            "600/600 [==============================] - 2s 4ms/step - loss: 0.0887 - accuracy: 0.9665 - val_loss: 0.2229 - val_accuracy: 0.9293\n",
            "Epoch 17/20\n",
            "600/600 [==============================] - 2s 4ms/step - loss: 0.0865 - accuracy: 0.9685 - val_loss: 0.2059 - val_accuracy: 0.9328\n",
            "Epoch 18/20\n",
            "600/600 [==============================] - 2s 4ms/step - loss: 0.0792 - accuracy: 0.9708 - val_loss: 0.2444 - val_accuracy: 0.9260\n",
            "Epoch 19/20\n",
            "600/600 [==============================] - 2s 4ms/step - loss: 0.0745 - accuracy: 0.9717 - val_loss: 0.2208 - val_accuracy: 0.9304\n",
            "Epoch 20/20\n",
            "600/600 [==============================] - 2s 4ms/step - loss: 0.0644 - accuracy: 0.9767 - val_loss: 0.2502 - val_accuracy: 0.9279\n"
          ],
          "name": "stdout"
        },
        {
          "output_type": "execute_result",
          "data": {
            "text/plain": [
              "<tensorflow.python.keras.callbacks.History at 0x7f265037d250>"
            ]
          },
          "metadata": {
            "tags": []
          },
          "execution_count": 11
        }
      ]
    },
    {
      "cell_type": "code",
      "metadata": {
        "id": "GvaJb-URiT19"
      },
      "source": [
        "prediction = model.predict(X_test)\n",
        "prediction = numpy.argmax(prediction, axis = 1)"
      ],
      "execution_count": null,
      "outputs": []
    },
    {
      "cell_type": "code",
      "metadata": {
        "colab": {
          "base_uri": "https://localhost:8080/"
        },
        "id": "Nc2MKTXXlsIh",
        "outputId": "eef6d186-e18d-4857-a74e-8796f651d231"
      },
      "source": [
        "print(\"accuracy score for the Fashion MNIST classification of the dataset is :\",metrics.accuracy_score(y_test_copy, prediction, normalize = True))\n",
        "print(metrics.classification_report(y_test_copy, prediction))\n",
        "print(metrics.confusion_matrix(y_test_copy, prediction))"
      ],
      "execution_count": null,
      "outputs": [
        {
          "output_type": "stream",
          "text": [
            "accuracy score for the Fashion MNIST classification of the dataset is : 0.9279\n",
            "              precision    recall  f1-score   support\n",
            "\n",
            "           0       0.89      0.87      0.88      1000\n",
            "           1       1.00      0.99      0.99      1000\n",
            "           2       0.95      0.83      0.88      1000\n",
            "           3       0.95      0.94      0.94      1000\n",
            "           4       0.82      0.95      0.88      1000\n",
            "           5       0.99      0.98      0.98      1000\n",
            "           6       0.79      0.80      0.80      1000\n",
            "           7       0.96      0.98      0.97      1000\n",
            "           8       0.99      0.98      0.99      1000\n",
            "           9       0.98      0.96      0.97      1000\n",
            "\n",
            "    accuracy                           0.93     10000\n",
            "   macro avg       0.93      0.93      0.93     10000\n",
            "weighted avg       0.93      0.93      0.93     10000\n",
            "\n",
            "[[868   1  13   6   5   1 101   1   4   0]\n",
            " [  0 988   1   7   2   0   2   0   0   0]\n",
            " [ 13   0 829   8  94   1  54   0   1   0]\n",
            " [ 13   2   3 938  24   0  18   0   1   1]\n",
            " [  2   0  10  10 948   0  30   0   0   0]\n",
            " [  0   0   0   0   0 984   1   8   1   6]\n",
            " [ 78   0  20  18  81   0 801   0   2   0]\n",
            " [  0   0   0   0   0  10   0 976   0  14]\n",
            " [  2   1   1   1   1   0   8   1 984   1]\n",
            " [  0   0   0   1   0   2   0  34   0 963]]\n"
          ],
          "name": "stdout"
        }
      ]
    },
    {
      "cell_type": "code",
      "metadata": {
        "id": "z9WlYuS-pwQI"
      },
      "source": [
        ""
      ],
      "execution_count": null,
      "outputs": []
    }
  ]
}