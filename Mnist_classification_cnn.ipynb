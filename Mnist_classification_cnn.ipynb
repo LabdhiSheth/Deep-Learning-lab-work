{
  "nbformat": 4,
  "nbformat_minor": 0,
  "metadata": {
    "colab": {
      "name": "Mnist classification cnn.ipynb",
      "provenance": [],
      "collapsed_sections": [],
      "authorship_tag": "ABX9TyMqsh9sUqel89fwxf8eeP+J",
      "include_colab_link": true
    },
    "kernelspec": {
      "name": "python3",
      "display_name": "Python 3"
    },
    "language_info": {
      "name": "python"
    }
  },
  "cells": [
    {
      "cell_type": "markdown",
      "metadata": {
        "id": "view-in-github",
        "colab_type": "text"
      },
      "source": [
        "<a href=\"https://colab.research.google.com/github/LabdhiSheth/Deep-Learning-lab-work/blob/main/Mnist_classification_cnn.ipynb\" target=\"_parent\"><img src=\"https://colab.research.google.com/assets/colab-badge.svg\" alt=\"Open In Colab\"/></a>"
      ]
    },
    {
      "cell_type": "markdown",
      "metadata": {
        "id": "-L0XcLtLT-JP"
      },
      "source": [
        "# 18BCE101 Labdhi Sheth\n",
        "Deep Learning practical\n",
        "\n",
        "Aim:\n",
        "MNIST classification dataset using CNN.\n",
        "\n",
        "The MNIST dataset is a large database of handwritten digits. This dataset is used for training models to recognize handwritten digits.\n"
      ]
    },
    {
      "cell_type": "code",
      "metadata": {
        "id": "4XiLWyp5nLsY"
      },
      "source": [
        "#importing necessary libraries\n",
        "from tensorflow import keras\n",
        "from keras.layers import Dense, MaxPool2D, Conv2D, Dropout,Flatten\n",
        "from keras.models import Sequential\n",
        "from keras.utils import np_utils\n",
        "from keras.datasets import mnist\n",
        "from sklearn import metrics\n",
        "import numpy\n",
        "from matplotlib import pyplot as plt"
      ],
      "execution_count": null,
      "outputs": []
    },
    {
      "cell_type": "markdown",
      "metadata": {
        "id": "awr0c8sdTuuD"
      },
      "source": [
        "### MNIST using CNN"
      ]
    },
    {
      "cell_type": "markdown",
      "metadata": {
        "id": "uYVCZCsWUbQ4"
      },
      "source": [
        "Loading the dataset"
      ]
    },
    {
      "cell_type": "code",
      "metadata": {
        "colab": {
          "base_uri": "https://localhost:8080/"
        },
        "id": "lie9sUwCTsSQ",
        "outputId": "33e73f29-da31-40e5-9cde-8c3f0059c728"
      },
      "source": [
        "(X_train, y_train),(X_test,y_test) = mnist.load_data()\n",
        "\n",
        "print(type(X_train))\n",
        "print(\"X train\",X_train.shape)\n",
        "print(\"X test\",X_test.shape)\n",
        "print(\"y train\",y_train.shape)\n",
        "print(\"y test\",y_test.shape)"
      ],
      "execution_count": null,
      "outputs": [
        {
          "output_type": "stream",
          "text": [
            "<class 'numpy.ndarray'>\n",
            "X train (60000, 28, 28)\n",
            "X test (10000, 28, 28)\n",
            "y train (60000,)\n",
            "y test (10000,)\n"
          ],
          "name": "stdout"
        }
      ]
    },
    {
      "cell_type": "code",
      "metadata": {
        "colab": {
          "base_uri": "https://localhost:8080/",
          "height": 402
        },
        "id": "81vKyjMMmQb0",
        "outputId": "c71dd096-4b0f-4dd2-fe3c-3c11c6755a37"
      },
      "source": [
        "row = 3\n",
        "col = 5\n",
        "\n",
        "num = row*col\n",
        "images = X_train[:num]\n",
        "labels = X_test[:num]\n",
        "\n",
        "fig, axes = plt.subplots(row, col, figsize=(2*col,2*row))\n",
        "for i in range(row*col):\n",
        "    ax = axes[i//col, i%col]\n",
        "    ax.imshow(images[i], cmap='gray')\n",
        "plt.tight_layout()\n",
        "plt.show()"
      ],
      "execution_count": null,
      "outputs": [
        {
          "output_type": "display_data",
          "data": {
            "image/png": "[encoded data removed]",
            "text/plain": [
              "<Figure size 720x432 with 15 Axes>"
            ]
          },
          "metadata": {
            "tags": [],
            "needs_background": "light"
          }
        }
      ]
    },
    {
      "cell_type": "markdown",
      "metadata": {
        "id": "HH0L_ALxUptI"
      },
      "source": [
        "Reshaping as [samples][width][height][channels]"
      ]
    },
    {
      "cell_type": "code",
      "metadata": {
        "colab": {
          "base_uri": "https://localhost:8080/"
        },
        "id": "4wgcwAF3UhrE",
        "outputId": "90c8d0e1-476c-40e9-878e-b9f9554d5228"
      },
      "source": [
        "X_train = X_train.reshape(X_train.shape[0],X_train.shape[1], X_train.shape[2], 1).astype('float32')\n",
        "X_test = X_test.reshape(X_test.shape[0],X_test.shape[1],X_test.shape[2],1).astype('float32')\n",
        "\n",
        "print(\"X train\",X_train.shape)\n",
        "print(\"X test\",X_test.shape)"
      ],
      "execution_count": null,
      "outputs": [
        {
          "output_type": "stream",
          "text": [
            "X train (60000, 28, 28, 1)\n",
            "X test (10000, 28, 28, 1)\n"
          ],
          "name": "stdout"
        }
      ]
    },
    {
      "cell_type": "markdown",
      "metadata": {
        "id": "dBxl2RATVE-6"
      },
      "source": [
        "normalizing the inputs to 0-1"
      ]
    },
    {
      "cell_type": "code",
      "metadata": {
        "id": "mF_olXMWUvp1"
      },
      "source": [
        "X_train = X_train/255\n",
        "X_test = X_test/255"
      ],
      "execution_count": null,
      "outputs": []
    },
    {
      "cell_type": "markdown",
      "metadata": {
        "id": "dlnkOFxNVKrJ"
      },
      "source": [
        "one hot encoding"
      ]
    },
    {
      "cell_type": "code",
      "metadata": {
        "colab": {
          "base_uri": "https://localhost:8080/"
        },
        "id": "P2cs9tt8VIc5",
        "outputId": "34b7611b-e019-4ca4-88c6-c307e9bcc5c5"
      },
      "source": [
        "y_train = np_utils.to_categorical(y_train)\n",
        "y_test_copy = y_test                        #for future use\n",
        "y_test = np_utils.to_categorical(y_test)\n",
        "print(\"y train\",y_train.shape)\n",
        "print(\"y test\",y_test.shape)"
      ],
      "execution_count": null,
      "outputs": [
        {
          "output_type": "stream",
          "text": [
            "y train (60000, 10)\n",
            "y test (10000, 10)\n"
          ],
          "name": "stdout"
        }
      ]
    },
    {
      "cell_type": "markdown",
      "metadata": {
        "id": "jsZUq_63VYsp"
      },
      "source": [
        "Building the model"
      ]
    },
    {
      "cell_type": "code",
      "metadata": {
        "colab": {
          "base_uri": "https://localhost:8080/"
        },
        "id": "IfNPpSSlVWWl",
        "outputId": "17a20fa5-1c39-4487-b6c9-5e41bae455d8"
      },
      "source": [
        "model = Sequential()\n",
        "model.add(Conv2D(32,(5,5), input_shape = (28,28,1), activation = 'relu'))\n",
        "model.add(MaxPool2D(pool_size = (2,2)))\n",
        "model.add(Dropout(0.3))\n",
        "model.add(Flatten())\n",
        "model.add(Dense(128, activation = 'relu'))\n",
        "model.add(Dense(y_test.shape[1], activation = 'softmax'))\n",
        "\n",
        "model.compile(loss = 'categorical_crossentropy', optimizer = 'adam', metrics = ['accuracy'])\n",
        "\n",
        "model.fit(X_train, y_train, validation_data = (X_test,y_test), epochs = 20, batch_size = 100, verbose = 1)"
      ],
      "execution_count": null,
      "outputs": [
        {
          "output_type": "stream",
          "text": [
            "Epoch 1/20\n",
            "600/600 [==============================] - 33s 55ms/step - loss: 0.3945 - accuracy: 0.8837 - val_loss: 0.0616 - val_accuracy: 0.9816\n",
            "Epoch 2/20\n",
            "600/600 [==============================] - 34s 56ms/step - loss: 0.0702 - accuracy: 0.9783 - val_loss: 0.0429 - val_accuracy: 0.9855\n",
            "Epoch 3/20\n",
            "600/600 [==============================] - 33s 56ms/step - loss: 0.0485 - accuracy: 0.9850 - val_loss: 0.0367 - val_accuracy: 0.9873\n",
            "Epoch 4/20\n",
            "600/600 [==============================] - 34s 56ms/step - loss: 0.0369 - accuracy: 0.9886 - val_loss: 0.0352 - val_accuracy: 0.9881\n",
            "Epoch 5/20\n",
            "600/600 [==============================] - 34s 56ms/step - loss: 0.0292 - accuracy: 0.9911 - val_loss: 0.0377 - val_accuracy: 0.9872\n",
            "Epoch 6/20\n",
            "600/600 [==============================] - 34s 56ms/step - loss: 0.0229 - accuracy: 0.9924 - val_loss: 0.0362 - val_accuracy: 0.9886\n",
            "Epoch 7/20\n",
            "600/600 [==============================] - 35s 58ms/step - loss: 0.0183 - accuracy: 0.9939 - val_loss: 0.0316 - val_accuracy: 0.9886\n",
            "Epoch 8/20\n",
            "600/600 [==============================] - 30s 51ms/step - loss: 0.0175 - accuracy: 0.9944 - val_loss: 0.0369 - val_accuracy: 0.9880\n",
            "Epoch 9/20\n",
            "600/600 [==============================] - 30s 50ms/step - loss: 0.0117 - accuracy: 0.9964 - val_loss: 0.0307 - val_accuracy: 0.9908\n",
            "Epoch 10/20\n",
            "600/600 [==============================] - 30s 50ms/step - loss: 0.0108 - accuracy: 0.9964 - val_loss: 0.0386 - val_accuracy: 0.9890\n",
            "Epoch 11/20\n",
            "600/600 [==============================] - 30s 50ms/step - loss: 0.0109 - accuracy: 0.9962 - val_loss: 0.0329 - val_accuracy: 0.9905\n",
            "Epoch 12/20\n",
            "600/600 [==============================] - 30s 50ms/step - loss: 0.0085 - accuracy: 0.9970 - val_loss: 0.0343 - val_accuracy: 0.9900\n",
            "Epoch 13/20\n",
            "600/600 [==============================] - 30s 50ms/step - loss: 0.0085 - accuracy: 0.9968 - val_loss: 0.0405 - val_accuracy: 0.9888\n",
            "Epoch 14/20\n",
            "600/600 [==============================] - 30s 50ms/step - loss: 0.0075 - accuracy: 0.9972 - val_loss: 0.0382 - val_accuracy: 0.9897\n",
            "Epoch 15/20\n",
            "600/600 [==============================] - 30s 49ms/step - loss: 0.0056 - accuracy: 0.9980 - val_loss: 0.0382 - val_accuracy: 0.9905\n",
            "Epoch 16/20\n",
            "600/600 [==============================] - 29s 49ms/step - loss: 0.0073 - accuracy: 0.9974 - val_loss: 0.0333 - val_accuracy: 0.9907\n",
            "Epoch 17/20\n",
            "600/600 [==============================] - 29s 49ms/step - loss: 0.0057 - accuracy: 0.9978 - val_loss: 0.0375 - val_accuracy: 0.9905\n",
            "Epoch 18/20\n",
            "600/600 [==============================] - 30s 49ms/step - loss: 0.0047 - accuracy: 0.9984 - val_loss: 0.0383 - val_accuracy: 0.9900\n",
            "Epoch 19/20\n",
            "600/600 [==============================] - 29s 49ms/step - loss: 0.0053 - accuracy: 0.9980 - val_loss: 0.0386 - val_accuracy: 0.9915\n",
            "Epoch 20/20\n",
            "600/600 [==============================] - 29s 49ms/step - loss: 0.0041 - accuracy: 0.9986 - val_loss: 0.0410 - val_accuracy: 0.9900\n"
          ],
          "name": "stdout"
        },
        {
          "output_type": "execute_result",
          "data": {
            "text/plain": [
              "<tensorflow.python.keras.callbacks.History at 0x7fda56fbf390>"
            ]
          },
          "metadata": {
            "tags": []
          },
          "execution_count": 15
        }
      ]
    },
    {
      "cell_type": "code",
      "metadata": {
        "id": "VT4ehFp5WDEY"
      },
      "source": [
        "prediction = model.predict(X_test)\n",
        "prediction = numpy.argmax(prediction, axis = 1)"
      ],
      "execution_count": null,
      "outputs": []
    },
    {
      "cell_type": "code",
      "metadata": {
        "colab": {
          "base_uri": "https://localhost:8080/"
        },
        "id": "_JOzi6A8Wq4L",
        "outputId": "e698bbf1-37b5-4fba-c89a-3ceac97ebce7"
      },
      "source": [
        "print(\"accuracy score for the MNIST classification of the dataset is :\",metrics.accuracy_score(y_test_copy, prediction, normalize = True))\n",
        "print(metrics.classification_report(y_test_copy, prediction))\n",
        "print(metrics.confusion_matrix(y_test_copy, prediction))"
      ],
      "execution_count": null,
      "outputs": [
        {
          "output_type": "stream",
          "text": [
            "accuracy score for the MNIST classification of the dataset is : 0.99\n",
            "              precision    recall  f1-score   support\n",
            "\n",
            "           0       0.99      1.00      0.99       980\n",
            "           1       0.99      1.00      1.00      1135\n",
            "           2       0.99      0.99      0.99      1032\n",
            "           3       0.99      1.00      0.99      1010\n",
            "           4       0.99      0.99      0.99       982\n",
            "           5       0.99      0.99      0.99       892\n",
            "           6       1.00      0.98      0.99       958\n",
            "           7       0.99      0.99      0.99      1028\n",
            "           8       0.99      0.99      0.99       974\n",
            "           9       0.99      0.98      0.98      1009\n",
            "\n",
            "    accuracy                           0.99     10000\n",
            "   macro avg       0.99      0.99      0.99     10000\n",
            "weighted avg       0.99      0.99      0.99     10000\n",
            "\n",
            "[[ 976    1    0    1    0    0    1    0    1    0]\n",
            " [   0 1135    0    0    0    0    0    0    0    0]\n",
            " [   1    1 1023    1    0    0    0    5    1    0]\n",
            " [   0    0    0 1006    0    2    0    0    1    1]\n",
            " [   0    0    1    0  974    0    2    0    0    5]\n",
            " [   2    0    0    5    0  884    1    0    0    0]\n",
            " [   4    3    0    1    2    6  940    0    2    0]\n",
            " [   0    1    6    1    1    0    0 1018    1    0]\n",
            " [   3    1    4    1    0    1    0    2  960    2]\n",
            " [   0    4    0    3    9    4    0    2    3  984]]\n"
          ],
          "name": "stdout"
        }
      ]
    },
    {
      "cell_type": "code",
      "metadata": {
        "id": "PivILad4W2-X"
      },
      "source": [
        ""
      ],
      "execution_count": null,
      "outputs": []
    }
  ]
}