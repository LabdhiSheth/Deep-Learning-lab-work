{
  "nbformat": 4,
  "nbformat_minor": 0,
  "metadata": {
    "colab": {
      "name": "CIFAR10 using Transfer Learning.ipynb",
      "provenance": [],
      "collapsed_sections": [],
      "authorship_tag": "ABX9TyP2FiX5fdPC/bDKZOn3P2SU",
      "include_colab_link": true
    },
    "kernelspec": {
      "name": "python3",
      "display_name": "Python 3"
    },
    "language_info": {
      "name": "python"
    },
    "accelerator": "GPU"
  },
  "cells": [
    {
      "cell_type": "markdown",
      "metadata": {
        "id": "view-in-github",
        "colab_type": "text"
      },
      "source": [
        "<a href=\"https://colab.research.google.com/github/LabdhiSheth/Deep-Learning-lab-work/blob/main/CIFAR10_using_Transfer_Learning.ipynb\" target=\"_parent\"><img src=\"https://colab.research.google.com/assets/colab-badge.svg\" alt=\"Open In Colab\"/></a>"
      ]
    },
    {
      "cell_type": "markdown",
      "metadata": {
        "id": "ond-zn03t0TH"
      },
      "source": [
        "# 18BCE101 Labdhi Sheth\n",
        "Deep Learning practical-4\n",
        "\n",
        "Aim:\n",
        "CIFAR10 classification dataset using Tranfer Learning.\n",
        "\n",
        "The CIFAR-10 dataset consists of 60000 32x32 colour images in 10 classes, with 6000 images per class. There are 50000 training images and 10000 test images. \n"
      ]
    },
    {
      "cell_type": "code",
      "metadata": {
        "id": "pXFYkOnFtxR-"
      },
      "source": [
        "import tensorflow\n",
        "from tensorflow import keras\n",
        "from keras.applications.xception import Xception, preprocess_input\n",
        "from keras.layers import Dense, MaxPool2D, Conv2D, Dropout, Flatten, GlobalAveragePooling2D\n",
        "from keras.utils import np_utils\n",
        "from keras.models import Sequential\n",
        "from keras.datasets import cifar10\n",
        "import cv2\n",
        "import numpy as np\n",
        "import matplotlib.pyplot as plt\n",
        "from sklearn import metrics"
      ],
      "execution_count": null,
      "outputs": []
    },
    {
      "cell_type": "markdown",
      "metadata": {
        "id": "EuZIw_Viwyqz"
      },
      "source": [
        "Loading the data"
      ]
    },
    {
      "cell_type": "code",
      "metadata": {
        "colab": {
          "base_uri": "https://localhost:8080/"
        },
        "id": "8_jXmextt2i_",
        "outputId": "dc7a9521-7232-454f-f5f8-5e0c95ac86a2"
      },
      "source": [
        "(X_train, y_train), (X_test, y_test) = cifar10.load_data()\n",
        "\n",
        "print(X_train.shape)\n",
        "print(X_test.shape)\n",
        "print(y_train.shape)\n",
        "print(y_test.shape)"
      ],
      "execution_count": null,
      "outputs": [
        {
          "output_type": "stream",
          "text": [
            "Downloading data from https://www.cs.toronto.edu/~kriz/cifar-10-python.tar.gz\n",
            "170500096/170498071 [==============================] - 2s 0us/step\n",
            "(50000, 32, 32, 3)\n",
            "(10000, 32, 32, 3)\n",
            "(50000, 1)\n",
            "(10000, 1)\n"
          ],
          "name": "stdout"
        }
      ]
    },
    {
      "cell_type": "markdown",
      "metadata": {
        "id": "DZ9WtKEhxOY-"
      },
      "source": [
        "In Keras Xception is a deep convolutional neural network architecture that involves Depthwise Separable Convolutions\n",
        "\n",
        "Creating a function to preprocess X for xception and converting Y into one-hot encoding "
      ]
    },
    {
      "cell_type": "code",
      "metadata": {
        "id": "Wd7ewqi0w7po"
      },
      "source": [
        "def preprocess_data(X, Y):\n",
        "    X = preprocess_input(X)\n",
        "    Y = np_utils.to_categorical(Y)\n",
        "    return X, Y"
      ],
      "execution_count": null,
      "outputs": []
    },
    {
      "cell_type": "code",
      "metadata": {
        "id": "DOPbFho6yQOE"
      },
      "source": [
        "# for calculating various metrics\n",
        "test_target = y_test\n",
        "\n",
        "x_train, y_train = preprocess_data(X_train, y_train)\n",
        "x_test, y_test = preprocess_data(X_test, y_test)"
      ],
      "execution_count": null,
      "outputs": []
    },
    {
      "cell_type": "markdown",
      "metadata": {
        "id": "egoD7vfin7bn"
      },
      "source": [
        "Building a model based on Xception using Transfer Learning and adding our own classifier on top of it"
      ]
    },
    {
      "cell_type": "code",
      "metadata": {
        "colab": {
          "base_uri": "https://localhost:8080/"
        },
        "id": "_nle3E0pndYY",
        "outputId": "99a0642f-144c-4d7a-d29c-5b4df1801902"
      },
      "source": [
        "# weights are initialized \n",
        "initializer = keras.initializers.he_normal()\n",
        "input_tensor = keras.Input(shape=(32, 32, 3))\n",
        "\n",
        "# resize images to the image size on which the network was pre-trained (i.e 72 X 72)\n",
        "resized_images = keras.layers.Lambda(lambda image: tensorflow.image.resize(image, (72, 72)))(input_tensor)\n",
        "model = Xception(include_top=False,weights='imagenet',input_tensor=resized_images,input_shape=(72, 72, 3),pooling='max')\n",
        "\n",
        "# make the weights and biases of the base model non-trainable by \"freezing\" each layer of the DenseNet201 network\n",
        "for layer in model.layers:\n",
        "    layer.trainable = False\n",
        "output = model.layers[-1].output\n",
        "\n",
        "# reshape the output feature map of the base model before passing the data on to the Dense layers of the classifier head\n",
        "flatten = Flatten()\n",
        "output = flatten(output)\n",
        "layer_256 = Dense(units=256,activation='relu',kernel_initializer=initializer,kernel_regularizer=keras.regularizers.l2())\n",
        "\n",
        "output = layer_256(output)\n",
        "\n",
        "dropout = Dropout(0.3)\n",
        "output = dropout(output)\n",
        "\n",
        "softmax = Dense(units=10,activation='softmax',kernel_initializer=initializer,kernel_regularizer=keras.regularizers.l2())\n",
        "output = softmax(output)\n",
        "\n",
        "model = keras.models.Model(inputs=input_tensor, outputs=output)\n"
      ],
      "execution_count": null,
      "outputs": [
        {
          "output_type": "stream",
          "text": [
            "Downloading data from https://storage.googleapis.com/tensorflow/keras-applications/xception/xception_weights_tf_dim_ordering_tf_kernels_notop.h5\n",
            "83689472/83683744 [==============================] - 0s 0us/step\n"
          ],
          "name": "stdout"
        }
      ]
    },
    {
      "cell_type": "code",
      "metadata": {
        "id": "4UjRzwlEonra"
      },
      "source": [
        "model.compile(optimizer=keras.optimizers.Adam(learning_rate=1e-4),loss='categorical_crossentropy',metrics=['accuracy'])"
      ],
      "execution_count": null,
      "outputs": []
    },
    {
      "cell_type": "markdown",
      "metadata": {
        "id": "DBo877Cio7ii"
      },
      "source": [
        "Creating training and validation generator and fitting the model"
      ]
    },
    {
      "cell_type": "code",
      "metadata": {
        "colab": {
          "base_uri": "https://localhost:8080/"
        },
        "id": "teridAfto44V",
        "outputId": "837abb47-ece5-4a3b-af06-926125406025"
      },
      "source": [
        "train_datagen = keras.preprocessing.image.ImageDataGenerator(horizontal_flip=True)\n",
        "train_generator = train_datagen.flow(x_train,y_train,batch_size=32)\n",
        "\n",
        "val_datagen = keras.preprocessing.image.ImageDataGenerator(horizontal_flip=True)\n",
        "val_generator = val_datagen.flow(x_test,y_test,batch_size=32)\n",
        "\n",
        "train_steps_per_epoch = x_train.shape[0] // 32\n",
        "val_steps_per_epoch = x_test.shape[0] // 32\n",
        "\n",
        "history = model.fit(train_generator,steps_per_epoch=train_steps_per_epoch,validation_data=val_generator,validation_steps=val_steps_per_epoch,epochs=5,shuffle=True,verbose=1)"
      ],
      "execution_count": null,
      "outputs": [
        {
          "output_type": "stream",
          "text": [
            "Epoch 1/5\n",
            "1562/1562 [==============================] - 75s 26ms/step - loss: 5.7773 - accuracy: 0.5620 - val_loss: 3.0927 - val_accuracy: 0.7182\n",
            "Epoch 2/5\n",
            "1562/1562 [==============================] - 39s 25ms/step - loss: 2.6713 - accuracy: 0.7227 - val_loss: 1.7848 - val_accuracy: 0.7386\n",
            "Epoch 3/5\n",
            "1562/1562 [==============================] - 40s 26ms/step - loss: 1.6279 - accuracy: 0.7412 - val_loss: 1.3016 - val_accuracy: 0.7405\n",
            "Epoch 4/5\n",
            "1562/1562 [==============================] - 40s 25ms/step - loss: 1.2210 - accuracy: 0.7516 - val_loss: 1.1116 - val_accuracy: 0.7397\n",
            "Epoch 5/5\n",
            "1562/1562 [==============================] - 40s 26ms/step - loss: 1.0582 - accuracy: 0.7519 - val_loss: 1.0372 - val_accuracy: 0.7418\n"
          ],
          "name": "stdout"
        }
      ]
    },
    {
      "cell_type": "markdown",
      "metadata": {
        "id": "Puh34v28pPp9"
      },
      "source": [
        "Prediction"
      ]
    },
    {
      "cell_type": "code",
      "metadata": {
        "colab": {
          "base_uri": "https://localhost:8080/"
        },
        "id": "dGJOvwVQpL29",
        "outputId": "716b8503-fd1d-4a42-943d-5f12caebb819"
      },
      "source": [
        "test_loss, test_acc = model.evaluate(x_test, y_test)\n",
        "print(\"Test Accuracy: {:.2f}%\".format(test_acc * 100))"
      ],
      "execution_count": null,
      "outputs": [
        {
          "output_type": "stream",
          "text": [
            "313/313 [==============================] - 7s 21ms/step - loss: 1.0340 - accuracy: 0.7416\n",
            "Test Accuracy: 74.16%\n"
          ],
          "name": "stdout"
        }
      ]
    },
    {
      "cell_type": "code",
      "metadata": {
        "colab": {
          "base_uri": "https://localhost:8080/"
        },
        "id": "LY5vm0ryp_Ls",
        "outputId": "eab3b3e5-1f7f-4466-be81-452f8cf5b1ed"
      },
      "source": [
        "prediction = model.predict(x_test)\n",
        "prediction = np.argmax(prediction, axis=1)\n",
        "print(prediction)\n",
        "print(prediction.shape)"
      ],
      "execution_count": null,
      "outputs": [
        {
          "output_type": "stream",
          "text": [
            "[3 8 8 ... 5 0 7]\n",
            "(10000,)\n"
          ],
          "name": "stdout"
        }
      ]
    },
    {
      "cell_type": "code",
      "metadata": {
        "colab": {
          "base_uri": "https://localhost:8080/"
        },
        "id": "uO4nktVpqBfL",
        "outputId": "5d27a18e-94c5-49ca-99c7-a86556c37a5c"
      },
      "source": [
        "#calculating various metrics\n",
        "print(\"Accuracy Score\",metrics.accuracy_score(test_target, prediction, normalize= True))\n",
        "print(\"Classification Report\",metrics.classification_report(test_target, prediction))\n",
        "print(\"Confusion Matrix\",metrics.confusion_matrix(test_target,prediction))"
      ],
      "execution_count": null,
      "outputs": [
        {
          "output_type": "stream",
          "text": [
            "Accuracy Score 0.7416\n",
            "Classification Report               precision    recall  f1-score   support\n",
            "\n",
            "           0       0.75      0.74      0.75      1000\n",
            "           1       0.81      0.85      0.83      1000\n",
            "           2       0.74      0.68      0.71      1000\n",
            "           3       0.57      0.67      0.62      1000\n",
            "           4       0.61      0.74      0.67      1000\n",
            "           5       0.76      0.67      0.71      1000\n",
            "           6       0.74      0.75      0.75      1000\n",
            "           7       0.84      0.71      0.77      1000\n",
            "           8       0.80      0.86      0.83      1000\n",
            "           9       0.89      0.74      0.81      1000\n",
            "\n",
            "    accuracy                           0.74     10000\n",
            "   macro avg       0.75      0.74      0.74     10000\n",
            "weighted avg       0.75      0.74      0.74     10000\n",
            "\n",
            "Confusion Matrix [[741  23  32  26  38   3  14  14  94  15]\n",
            " [ 26 851   3  25   3  10   2   2  23  55]\n",
            " [ 45   2 684  56 104  17  71  16   5   0]\n",
            " [ 16   8  42 666  67 105  64  17  12   3]\n",
            " [ 20   4  55  46 738  10  77  39  11   0]\n",
            " [ 10   4  27 182  52 667  24  30   3   1]\n",
            " [  7   7  46  74  81  23 754   4   4   0]\n",
            " [ 19   4  32  55 116  38  11 712   7   6]\n",
            " [ 67  25   5  13   9   0   3   4 859  15]\n",
            " [ 38 117   2  17   7   5   3   9  58 744]]\n"
          ],
          "name": "stdout"
        }
      ]
    },
    {
      "cell_type": "markdown",
      "metadata": {
        "id": "RWMgQ2-TqUA0"
      },
      "source": [
        "Plotting the results"
      ]
    },
    {
      "cell_type": "code",
      "metadata": {
        "colab": {
          "base_uri": "https://localhost:8080/",
          "height": 276
        },
        "id": "LlVdbubkqTEc",
        "outputId": "7fc8a9fb-fdf1-4b09-da78-a65fbff5c565"
      },
      "source": [
        "plt.figure(1, figsize = (15,8))\n",
        "plt.subplot(221)\n",
        "plt.plot(history.history['accuracy'])\n",
        "plt.plot(history.history['val_accuracy'])\n",
        "plt.title('model accuracy')\n",
        "plt.ylabel('accuracy')\n",
        "plt.xlabel('epoch')\n",
        "plt.legend(['train', 'valid'])\n",
        "plt.subplot(222)\n",
        "plt.plot(history.history['loss'])\n",
        "plt.plot(history.history['val_loss'])\n",
        "plt.title('model loss')\n",
        "plt.ylabel('loss')\n",
        "plt.xlabel('epoch')\n",
        "plt.legend(['train', 'valid'])\n",
        "plt.show()\n"
      ],
      "execution_count": null,
      "outputs": [
        {
          "output_type": "display_data",
          "data": {
            "image/png": "[encoded data removed]",
            "text/plain": [
              "<Figure size 1080x576 with 2 Axes>"
            ]
          },
          "metadata": {
            "tags": [],
            "needs_background": "light"
          }
        }
      ]
    },
    {
      "cell_type": "markdown",
      "metadata": {
        "id": "r3kfT_hdpSkZ"
      },
      "source": [
        "# Conclusion\n",
        "Transfer learning is a machine learning method where a model developed for a task is reused as the starting point for a model on a second task. Transfer learning is popular in deep learning given the enormous resources required to train deep learning models or the large and challenging datasets on which deep learning models are trained. Thus in our case for classifying CIFAR10 dataset we are using Xception weights"
      ]
    }
  ]
}